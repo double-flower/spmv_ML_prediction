{
 "cells": [
  {
   "cell_type": "code",
   "execution_count": null,
   "metadata": {},
   "outputs": [],
   "source": [
    "from autogluon.tabular import TabularDataset, TabularPredictor\n",
    "import pandas as pd\n",
    "import numpy as np\n",
    "\n",
    "precision = 'FP64'\n",
    "bag = 10\n",
    "stack = 2\n",
    "\n",
    "prefix = f'{precision}_B{bag}S{stack}'\n",
    "dataset = 'oneToTwo_dataset_V100'\n",
    "save_path = f'/mnt/disk1/gjh/AutoML_models/agtModel_{prefix}_{dataset}'\n",
    "train = TabularDataset(f'{precision}Train.csv')\n",
    "test = TabularDataset(f'{precision}Test.csv')\n"
   ]
  },
  {
   "cell_type": "code",
   "execution_count": null,
   "metadata": {},
   "outputs": [],
   "source": [
    "# import time\n",
    "# agtPredictor = TabularPredictor.load(save_path)\n",
    "# agtPredictor.persist_models(\n",
    "#     models=['LightGBM_BAG_L1'], max_memory=0.5)\n",
    "# tries = 200\n",
    "# tmp = []\n",
    "# s = time.perf_counter()\n",
    "# for i in range(0, tries):\n",
    "#     # s = time.perf_counter()\n",
    "#     d = test.iloc[[i]]\n",
    "#     t = agtPredictor.predict(d, model='LightGBM_BAG_L1')\n",
    "#     # e = time.perf_counter()\n",
    "#     # tmp.append((e-s)*1000)\n",
    "# e = time.perf_counter()\n",
    "# print(f\"Run time per row: {(e-s)*1000/tries}ms\")\n"
   ]
  },
  {
   "cell_type": "code",
   "execution_count": null,
   "metadata": {},
   "outputs": [],
   "source": [
    "agtPredictor = TabularPredictor(label='label', path=save_path, problem_type='multiclass',\n",
    "                                learner_kwargs={'ignored_columns': ['Matrix']}).fit(\n",
    "    train, num_bag_folds=bag, num_stack_levels=stack, ag_args_fit={'num_gpus': 0})\n"
   ]
  },
  {
   "cell_type": "code",
   "execution_count": null,
   "metadata": {},
   "outputs": [],
   "source": [
    "# t = agtPredictor.persist_models(\n",
    "#     models=agtPredictor.get_model_names(), max_memory=0.5)\n"
   ]
  },
  {
   "cell_type": "code",
   "execution_count": null,
   "metadata": {},
   "outputs": [],
   "source": [
    "agtPredictor = TabularPredictor.load(save_path)\n",
    "a = agtPredictor.leaderboard(test, silent=True)\n",
    "a10 = a.head(10)\n",
    "a10 = a10[['model', 'score_test', 'score_val']]\n",
    "a10plus = pd.DataFrame()\n",
    "a10plus['model'] = a10['model']\n",
    "best = a['model'][0]"
   ]
  },
  {
   "cell_type": "code",
   "execution_count": null,
   "metadata": {},
   "outputs": [],
   "source": [
    "score_train = []\n",
    "for model in a10plus['model']:\n",
    "    st = agtPredictor.evaluate(train, model=model, silent=True)\n",
    "    score_train.append(st[agtPredictor.eval_metric.name])\n",
    "    print(model)\n"
   ]
  },
  {
   "cell_type": "code",
   "execution_count": null,
   "metadata": {},
   "outputs": [],
   "source": [
    "a10plus['score_train'] = pd.Series(score_train)\n",
    "af = a10.merge(a10plus)\n",
    "af.to_csv(f'submit/{prefix}_{dataset}_score.csv', index=False)"
   ]
  },
  {
   "cell_type": "code",
   "execution_count": null,
   "metadata": {},
   "outputs": [],
   "source": [
    "# c1 = agtPredictor.predict(train, model=best)\n",
    "# c1 = pd.DataFrame(c1)\n",
    "# c1['matrix'] = train['matrix']\n",
    "# c1['group'] = train['group']\n",
    "# c1.to_csv(f'submit2/{prefix}_pred_on_train.csv', index=False)\n",
    "\n",
    "# agtPredictor = TabularPredictor.load(save_path)\n",
    "c2 = agtPredictor.predict(test, model=best)\n",
    "c2 = pd.DataFrame(c2)\n",
    "c2['Matrix'] = test['Matrix']\n",
    "# c2['group'] = test['group']\n",
    "c2.to_csv(f'submit/{prefix}_pred_on_test_P100.csv', index=False)\n"
   ]
  },
  {
   "cell_type": "code",
   "execution_count": null,
   "metadata": {},
   "outputs": [],
   "source": [
    "# # agtPredictor = TabularPredictor.load(save_path)\n",
    "# a = agtPredictor.leaderboard(test, silent=True)\n",
    "# b = a.head(10)[['model', 'pred_time_test', 'pred_time_test_marginal']]\n",
    "# b.to_csv(f'submit2/{prefix}_pred_time_on_test.csv', index=False)\n"
   ]
  }
 ],
 "metadata": {
  "interpreter": {
   "hash": "2843cabd0433704bf9af0eb427e5fac31b8e3c43971b08ae8afc4b2111159d22"
  },
  "kernelspec": {
   "display_name": "Python 3.8.8 64-bit ('base': conda)",
   "name": "python3"
  },
  "language_info": {
   "codemirror_mode": {
    "name": "ipython",
    "version": 3
   },
   "file_extension": ".py",
   "mimetype": "text/x-python",
   "name": "python",
   "nbconvert_exporter": "python",
   "pygments_lexer": "ipython3",
   "version": "3.8.12"
  },
  "orig_nbformat": 4
 },
 "nbformat": 4,
 "nbformat_minor": 2
}
